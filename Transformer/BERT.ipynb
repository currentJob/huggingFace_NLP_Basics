{
 "cells": [
  {
   "cell_type": "code",
   "execution_count": 1,
   "metadata": {},
   "outputs": [
    {
     "data": {
      "application/vnd.jupyter.widget-view+json": {
       "model_id": "1f1c3c5d6e4649368fd7d80e7bf4c1cf",
       "version_major": 2,
       "version_minor": 0
      },
      "text/plain": [
       "VBox(children=(HTML(value='<center> <img\\nsrc=https://huggingface.co/front/assets/huggingface_logo-noborder.sv…"
      ]
     },
     "metadata": {},
     "output_type": "display_data"
    }
   ],
   "source": [
    "from huggingface_hub import login\n",
    "login()"
   ]
  },
  {
   "cell_type": "code",
   "execution_count": 2,
   "metadata": {},
   "outputs": [
    {
     "name": "stdout",
     "output_type": "stream",
     "text": [
      "ModelInfo(id='openai-community/gpt2', author='openai-community', sha='607a30d783dfa663caf39e06633721c8d4cfcd7e', created_at=datetime.datetime(2022, 3, 2, 23, 29, 4, tzinfo=datetime.timezone.utc), last_modified=datetime.datetime(2024, 2, 19, 10, 57, 45, tzinfo=datetime.timezone.utc), private=False, gated=False, disabled=False, downloads=19943214, likes=1674, library_name='transformers', tags=['transformers', 'pytorch', 'tf', 'jax', 'tflite', 'rust', 'onnx', 'safetensors', 'gpt2', 'text-generation', 'exbert', 'en', 'doi:10.57967/hf/0039', 'license:mit', 'autotrain_compatible', 'endpoints_compatible', 'has_space', 'text-generation-inference', 'region:us'], pipeline_tag='text-generation', mask_token=None, card_data={'language': 'en', 'license': 'mit', 'library_name': None, 'tags': ['exbert'], 'datasets': None, 'metrics': None, 'eval_results': None, 'model_name': None}, widget_data=None, model_index=None, config={'architectures': ['GPT2LMHeadModel'], 'model_type': 'gpt2', 'task_specific_params': {'text-generation': {'do_sample': True, 'max_length': 50}}, 'tokenizer_config': {}}, transformers_info={'auto_model': 'AutoModelForCausalLM', 'pipeline_tag': 'text-generation', 'processor': 'AutoTokenizer'}, siblings=[RepoSibling(rfilename='.gitattributes', size=None, blob_id=None, lfs=None), RepoSibling(rfilename='64-8bits.tflite', size=None, blob_id=None, lfs=None), RepoSibling(rfilename='64-fp16.tflite', size=None, blob_id=None, lfs=None), RepoSibling(rfilename='64.tflite', size=None, blob_id=None, lfs=None), RepoSibling(rfilename='README.md', size=None, blob_id=None, lfs=None), RepoSibling(rfilename='config.json', size=None, blob_id=None, lfs=None), RepoSibling(rfilename='flax_model.msgpack', size=None, blob_id=None, lfs=None), RepoSibling(rfilename='generation_config.json', size=None, blob_id=None, lfs=None), RepoSibling(rfilename='merges.txt', size=None, blob_id=None, lfs=None), RepoSibling(rfilename='model.safetensors', size=None, blob_id=None, lfs=None), RepoSibling(rfilename='onnx/config.json', size=None, blob_id=None, lfs=None), RepoSibling(rfilename='onnx/decoder_model.onnx', size=None, blob_id=None, lfs=None), RepoSibling(rfilename='onnx/decoder_model_merged.onnx', size=None, blob_id=None, lfs=None), RepoSibling(rfilename='onnx/decoder_with_past_model.onnx', size=None, blob_id=None, lfs=None), RepoSibling(rfilename='onnx/generation_config.json', size=None, blob_id=None, lfs=None), RepoSibling(rfilename='onnx/merges.txt', size=None, blob_id=None, lfs=None), RepoSibling(rfilename='onnx/special_tokens_map.json', size=None, blob_id=None, lfs=None), RepoSibling(rfilename='onnx/tokenizer.json', size=None, blob_id=None, lfs=None), RepoSibling(rfilename='onnx/tokenizer_config.json', size=None, blob_id=None, lfs=None), RepoSibling(rfilename='onnx/vocab.json', size=None, blob_id=None, lfs=None), RepoSibling(rfilename='pytorch_model.bin', size=None, blob_id=None, lfs=None), RepoSibling(rfilename='rust_model.ot', size=None, blob_id=None, lfs=None), RepoSibling(rfilename='tf_model.h5', size=None, blob_id=None, lfs=None), RepoSibling(rfilename='tokenizer.json', size=None, blob_id=None, lfs=None), RepoSibling(rfilename='tokenizer_config.json', size=None, blob_id=None, lfs=None), RepoSibling(rfilename='vocab.json', size=None, blob_id=None, lfs=None)], spaces=['HuggingFaceH4/open_llm_leaderboard', 'microsoft/HuggingGPT', 'Gustavosta/MagicPrompt-Stable-Diffusion', 'shi-labs/Versatile-Diffusion', 'h2oai/h2ogpt-chatbot', 'microsoft/Promptist', 'optimum/llm-perf-leaderboard', 'aliabid94/AutoGPT', 'yizhangliu/Grounded-Segment-Anything', 'wangrongsheng/ChatPaper', 'OFA-Sys/OFA-Image_Caption', 'h2oai/h2ogpt-chatbot2', 'Manmay/tortoise-tts', 'ShiwenNi/ChatReviewer', 'OpenMotionLab/MotionGPT', 'flax-community/image-captioning', 'doevent/Stable-Diffusion-prompt-generator', 'nateraw/lavila', 'treadon/prompt-fungineer-355M', 'exbert-project/exbert', 'yizhangliu/Text-to-Image', 'deepklarity/poster2plot', 'akhaliq/CLIP_prefix_captioning', 'gsaivinay/open_llm_leaderboard', 'EleutherAI/magma', 'OFA-Sys/OFA-Visual_Grounding', 'maxmax20160403/sovits5.0', 'FrankZxShen/so-vits-svc-models-ba', 'OFA-Sys/OFA-vqa', 'OFA-Sys/OFA-Generic_Interface', 'phenomenon1981/MagicPrompt-Stable-Diffusion', 'johko/capdec-image-captioning', 'Gustavosta/MagicPrompt-Dalle', 'bipin/image2story', 'hkunlp/Binder', 'ShiwenNi/ChatResponse', 'eson/tokenizer-arena', 'aubmindlab/Arabic-NLP', 'LilyF/Generate_Text_and_Audio', 'Catmeow/AI_story_writing', 'society-ethics/model-card-regulatory-check', 'ICML2022/OFA', 'hahahafofo/image2text_prompt_generator', 'thirdai/BOLT2.5B', 'sohaibcs1/Image-to-Text-Summary', 'aliabid94/GPT-Golf', 'Hello-SimpleAI/chatgpt-detector-ling', 'mshukor/UnIVAL', 'FrankZxShen/so-vits-svc-models-pcr', 'llizhx/TinyGPT-V', 'architext/Architext_deployed', 'kmacdermid/RpgRoomGenerator', 'SeViLA/SeViLA', 'Dagfinn1962/stablediffusion-models', 'AnimaLab/bias-test-gpt-pairs', 'sasha/BiasDetection', 'stanfordnlp/Backpack-Demo', 'eduagarcia/open_pt_llm_leaderboard', 'sasha/WinoBiasCheck', 'ccolas/TastyPiano', 'BoomerangGirl/MagicPrompt-Stable-Diffusion', 'dromerosm/gpt-info-extraction', 'zeno-ml/chatbot-report', 'Hellisotherpeople/HF-SHAP', 'ethzanalytics/gpt2-xl-conversational', 'hahahafofo/prompt_generator', 'liyucheng/selective_context', 'taka-yamakoshi/tokenizer-demo', 'autonomous019/image_story_generator', 'taesiri/HuggingGPT-Lite', 'Guinnessgshep/AI_story_writing', 'gagan3012/ViTGPT2', 'huybery/deep-thinking', 'RitaParadaRamos/SmallCapDemo', 'BigSalmon/InformalToFormal', 'alistairmcleay/cambridge-masters-project', 'codeparrot/apps_metric', 'Catmeow/Text_Generation_Fine_Tune', 'j43fer/MagicPrompt-Stable-Diffusion', 'Daniton/MagicPrompt-Stable-Diffusion', 'ashhadahsan/ai-book-generator', 'koajoel/PolyFormer', 'felixz/open_llm_leaderboard', 'lfoppiano/document-qa', 'ansfarooq7/l4-project', 'ecarbo/text-generator-demo', 'robjm16/domain_specific_ChatGPT', 'unilm/Promptist-faster', 'dromerosm/chatgpt-info-extraction', 'lukesteuber/textual', 'Vageesh1/clip_gpt2', 'GroveStreet/GTA_SOVITS', 'Chris4K/text-generation-tool', 'MBZUAI/artst-tts-demo', 'yhavinga/dutch-tokenizer-arena', 'Kaludi/Stable-Diffusion-Prompt-Generator_App', 'NegativeSector/News_Article_Generator', 'djrana/AI-ART-PROMPT-CREATOR', 'akhaliq/SummerTime', 'ofig/live-lm-critic', 'tinkoff-ai/caif', 'kunwarsaaim/Self-Debiasing', 'datasciencedojo/Text-Generator', 'gstaff/MagicGen', 'HighCWu/anime-colorization-with-hint', 'pngwn/Stable-Diffusion-prompt-generator', 'markski/reddit-roast-me', 'aichina/MagicPrompt-Stable-Diffusion', 'Shad0ws/Information_Extraction_with_ChatGPT', 'imseldrith/AI-Rewriter', 'amarzana/Drop_image_to_short_story', 'PushkarA07/Cover-Gen-audio2image', 'Mrchuw/MagicPrompt-Stable-Diffusion', 'PirateXX/Sentencewise-Perplexity', 'Bostoncake/ChatAssistant', 'MathysL/AutoGPT4', 'MetaWabbit/Auto-GPT', 'Silence1412/Stable_Diffusion_Cpu', 'lllqqq/so-vits-svc-models-pcr', 'alonsosilva/tokenizer', 'luis112/text-generation-webui', 'Kedreamix/ChatPaperFree', 'ehristoforu/Rensor', 'abdullahmeda/detect-ai-text', 'mrbeliever/prompt-generator', 'aliabd/SummerTime', 'ALOQAS/aloqas-gradio', 'arijitdas123student/gpt2-demo', 'MixoMax/Ar4ikov-gpt2-650k-stable-diffusion-prompt-generator', 'jason9693/KoreanHateSpeechClassifier', 'GTBench/GTBench', 'merve/spaces-demo', 'un-index/textgen6b', 'HarryLee/eCommerceImageCaptioning', 'Axolotlily/TextGen', 'gstaff/test_space', 'amsterdamNLP/contrastive-pairs', 'ClaudioX/mg_sd_esp', 'Matthew567/text_generator', 'trysem/visua', 'yonikremer/grouped-sampling-demo', 'imseldrith/ChatGPT-Detection', 'seawolf2357/sd-prompt-gen', 'yuan2023/Stable-Diffusion-Prompt-Generator_App', 'JeffJing/ZookChatBot', 'Dao3/MagicPrompt-Stable-Diffusion', 'B-patents/patent-bert', 'JunchuanYu/Tools', 'ntcwai/prompt-engine', 'awacke1/Creative-Potential-Music-Art-Lit', 'hhalim/streamlit_ChatGPT_Peer', 'jefftko/Stable-Diffusion-prompt-generator', 'kyleledbetter/responsibleGPT', 'jordonpeter01/dreamlike-photoreal-2.0', 'weanalyze/analyze_url', 'Kevin676/AutoGPT', 'ChandraMohanNayal/AutoGPT', 'moha222/gpt2-wikipedia', 'duchaba/sd_prompt_helper', 'florim/MedGPT', 'TeamMlx/MagicPrompt-Stable-Diffusion', 'Littlehongman/CLIPGPT-ImageCaptioner', 'Chakshu123/image-colorization-with-hint', 'KKMobile/MagicPrompt-Stable-Diffusion', 'FYP-23-S1-21/Refineverse_Plugin', 'Illumotion/Koboldcpp', 'b1sheng/kg_llm_leaderboard_test', 'yl12053/so-vits-4.1-Tokai-Teio', 'paschar/StoryGenerator', 'yl12053/so-vits-4.1-Kitasan-Black', 'yl12053/so-vits-4.1-Daiwa-Scarlet', 'yl12053/so-vits-4.1-Matikanefukukitaru', 'HuggingFaceM4/IDEFICS_Data_Measurement_Tool', 'hlydecker/RA-document-QAchat', 'aoxiang1221/so-vits-svc', 'lm-human-preference-details/rlhf-demo', 'ZeroTwo3/MagicPrompt-Stable-Diffusion', 'LeeThanh/My-Chat', 'neuroama/so-vits-svc', 'dreamdrop-art/000555111', 'Annorita/tokenizer_comparison', 'baruga/gpt4-sandbox', 'edemgold/generator', 'jeevana/jeevana-GenerativeQnASystem_Gradio', 'jitesh/storytelling', 'rodrigomasini/data_only_open_llm_leaderboard', 'kinensake/quanquan', 'Vedits/Magic-Prompt-generator', 'azaninello/ailai', 'michaelgira23/debiasing-lms', 'sriramelango/Social_Classification_Public', 'azaninello/gpt2-general-english', 'kkawamu1/huggingface_multi_inference_rank_eval', 'yairVag/Image_Captioning', 'BigSalmon/TestAnyGPTModel', 'bkhalaf/testapp', 'nichaphat/text_generation', 'aswinkvj/image_captioning', 'Abuzariii/Text-Generation-with-GPT-2', 'zbellay/job-automation', 'vs4vijay/playground', 'Brij1808/Blog_Generator', 'blossom618/text_generator', '4H17Joycelyn/text_generater', 'Ali36Ahmad/MagicPrompt-Stable-Diffusion', 'pngwn/huguru', 'ussarata/storygen', 'alphahg/academic-paper-translate-summary', 'oliveiracwb/MBP', 'alisrbdni/MagicPrompt-Stable-Diffusion', 'Nexxt/MagicPrompt-Stable-Diffusion', 'wldmr/deeppunct-gr', 'suryabbrj/ContentModX', 'Armored-Atom/DiFuse_Your_Thoughts', 'awacke1/Text-generation', 'jpoptum/Daredevil-Text_generation', 'younker/chatgpt-turbo', 'suryabbrj/vit-gpt-caption-model-CMX', 'rcajegas/WHO_1', 'Stereo0001/MagicPrompt-Stable-Diffusion', 'Gilvan/XRaySwinGen', 'sdpkjc/ChatPaper', 'awacke1/TopTenAIGeneratedSolutionsAnyoneCouldUse', 'awacke1/StreamlitSolution-To-Your-Problem-Generator', 'Vipitis/ShaderEval', 'ruanchaves/hashtag-segmentation', 'CelesteChen/GPT-token', 'ccarr0807/HuggingGPT', 'AiPalsDev/Translate_It', 'lora-x/Backpack', 'effluxriad/YouTube-comments-generator', 'theholycityweb/HuggingGPT', 'datagpt/url2info', 'msmilauer/AutoGPT-duplicated2', 'RKocielnik/bias-test-gpt', 'Yuankai/ChatReviewer', 'kenton-li/ChatArxiv', 'kukuhtw/AutoGPT', 'avivdm1/AutoGPT', 'Isaoudata/WaltWhitman-GPT', 'falcondai/stego-lm', 'Jamkonams/AutoGPT', 'DaleChen/AutoGPT', 'appy-agency/sprigs', 'ramiin2/AutoGPT', 'Lamai/LAMAIGPT', 'johnsu6616/SD_Helper_01', 'kcagle/AutoGPT', 'Xinyoumeng233hu/SteganographywithGPT-2', 'crazyjetsai/finetuneai', 'unidiffuser-testing/unidiffuser-testing', 'cifkao/context-probing', 'duchaba/yml_hackathon_prompt_monty', 'egosumkira/GPT2-Fantasy', 'ankush29/CheckGPT', 'jx-yang/deep-thinking', 'saurshaz/HuggingGPT', 'hlydecker/Augmented-Retrieval-qa-ChatGPT', 'kbora/minerva-generate-docker', 'SIH/Augmented-Retrieval-qa-ChatGPT', 'caldervf/maven-5', 'AlphaGPT/PaperSummary', 'amitjainmldesign/amitapp', 'fuckyoudeki/AutoGPT', 'biranchi125/gpt2_experiment', 'Jaehan/Text-Generation-1', 'Jaehan/Text-Generation-2', 'Jaehan/Text-Generation-3', 'Jaehan/Text-Generation-4', 'hamelcubsfan/AutoGPT', 'darksakura/l1', 'Yusen/So-VITS-4.1', 'ShiwenNi/ChatReviewer-2', 'ScottRobertsXR/image-captioning-01', 'Ritori/Yura_GPT', 'Harshveer/Diffusion30x', 'yl12053/so-vits-4.1-Special-Week', 'yl12053/so-vits-4.1-Manhattan-Cafe', 'yl12053/so-vits-4.1-Rice-Shower', '1line/AutoGPT', 'yl12053/so-vits-4.1-Grass-Wonder', 'yl12053/so-vits-4.1-Mihono-Bourbon', 'CosmoAI/ChitChat', 'PeepDaSlan9/AutoGPT', 'yl12053/so-vits-4.1-Curren-Chan', 'Hypersonic0945/GenAISample', 'yl12053/so-vits-4.1-Special-Week-Remake', 'insaafS/AI-Story-Gen', 'feedexpdition/gardio-patient-clinical-summary', 'yl12053/so-vits-4.1-Mejiro-Ardan', 'Benson/text-generation', 'Toaster496/HugChatWithPlugin', 'miittnnss/UrFriendly-Chatbot', 'Ashrafb/MagicPrompt-Stable-Diffusion', 'Lokesh1200/WebGPT', 'Docfile/open_llm_leaderboard', 'roshithindia/chatBotGPT2', 'LovnishVermaPRINCE/chatai', 'chendl/compositional_test', 'AchyuthGamer/MagicPrompt-Stable-Diffusion', 'vih-v/Stable-Diffusion-prompt-generator', 'AnishKumbhar/ChatBot', 'ShrapTy/text_generation', 'alonsosilva/NextTokenPrediction', 'moin1234/XAGPT1', 'Pranjal12345/Text_to_Speech', 'alonsosilva/perplexity', 'TNK21/Story_Generator', 'Abhaykoul/Prompt_generator_for_helpingAI-tti', 'Yugang998/Grounded-Segment-Anything', 'QuanLingZ/ChatReviewer', 'his0/h2ogpt-chatbot', 'VTechAI/Segment-Anything', 'atimughal662/InfoFusion', 'sujitojha/nanoGPT', 'QuanLingZ/ChatResponse', 'PeepDaSlan9/Book-Analyzer', 'franmacias/tts', 'awacke1/MagicPrompt-Stable-Diffusion', 'MattGPT/ClassUI', 'svjack/MagicPrompt-Stable-Diffusion', 'neuroama/so-vits-svc-models-baa', 'Alfasign/Einfach.Stable_DiffPomrpter', 'Alfasign/HuggingGPT-Lite', 'DEVILOVER/text-generation-webui', 'EbubeJohnEnyi/ChatBot_AI', 'TechAudio/audiosr', 'Betacuckgpt/HuggingGPT', 'BigSalmon/GPT2Tokenizer', 'invisiblestring/invisible_string', 'aliabd/nubia', 'Betacuckgpt/AutoGPT', 'knoxcs/masked-probs', 'Betacuckgpt/AutoGPT123', 'max21226/HelloWorld', 'magellan-ai/brand-classifier', 'zachlopez/sample_1', 'knyshaleksandr6/prompt-fungineer-355M', 'zachlopez/sample_2', 'DataAnalyticsLab/Sorvad-Dev', 'zachlopez/sample_3', 'vsrinivas/ChatBot_by_SrinivasV', 'ericanthonymitchell/model-editing', 'piyushgrover/NanoGPT', 'mariamisoieva/CoherentGeneration', 'Gosula/Nano_gpt_Shakespeare_data', 'kdcckvgmhuvkzngyxh/text-gen-prob', 'jihaitang/extrasneo111', 'dragonSwing/capu-demo', 'macqo21/AutoGPT', 'abxhr/design-project', 'xzuyn/Token-Count-Comparison', 'blewandowski/gpt2-test-subspace', 'vishnumg/RAG-Motor', 'Apenguintitf/test', 'Epill/tortoise-tts', 'sneedandfeed/seeedandtest', 'BruiserBro/ai_chatbot_email_subject_generator', 'cpllab/syntaxgym', 'LLMChess/Chess_LLM_Space_2', 'Axolotlily/RpgGenerator', 'aisafe/SCA', 'AhmedSSabir/demo-for-Visual-Belief-Revision', 'jeevana/jeevana-EmailSubjectLineGeneration_Gradio', 'abidlabs/GPT-Golf', 'DScience18/ai_chatbot_email_subject_generator', 'abd-meda/test', 'SurajSingh/gpt2_email_generation', 'AhmedSSabir/Demo-for-Gender-Score', 'aka4akash/the_48_laws_of_power', 'AhmedSSabir/demo-for-Visual-Re-ranker', 'shapermindai/SinGPTUltimate', 'AhmedSSabir/Demo-for-Gender-Score-jp', 'shaynanigans/my_repo', 'luisoala/trustworthy-plugin', 'FabioMesquita/echo-chatbot', 'sarahmarciano/Image_Captioning', 'sleepdeep/llm-deploy', 'jonasmouyal/Image_Captioning', 'Mosesgw/openai-community-gpt2', 'jiwan-chung/esper', 'OnyangoF/openai-community-gpt2', 'yuewu/tocgen', 'chnln/ChatReviewer', 'Xhaheen/image_captioning_gpt2', 'Haysar/text-generation-webui', 'fzantalis/test', 'NahFam13/webbyuu', 'ThankGod/text-generation', 'Verias/testing_space', 'fzantalis/gpt2-text-generation', 'MAsad789565/finetuninggpt2', 'anonymous8/Rapid-Textual-Adversarial-Defense', 'MAsad789565/botdata', 'TeamHaltmannSusanaHWCEO/StreamlitRipperv0Diffusion', 'rodrigomasini/data_only_llm_perf_leaderboard', 'fzantalis/gtp2-test', 'clubm/AskMax2', 'FahadAlam/Text-Generator', 'aspengreyagain/llama2', 'AriAri22/Lab10_630510695', 'aspengreyagain/openai-community-gpt2', 'mxxtnn/Exercise', 'mistpe/langchain-chatchat', 'ronaldahmed/my_perplexity', 'djrana/anything', 'zachsyver/textgen', 'hunthinn/movie_title_gpt2', 'ldenoue/sentence-scorer', 'rohit99/pg_capstone', 'swapnalvarma/github_issues_generator', 'Dagfinn1962/MagicPrompt-Stable-Diffusion2024', 'BigSalmon/W', 'poi1258/MagicPrompt-Stable-Diffusion', 'shripadbhat/Document_Question_Answering', 'Ck773/MagicPrompt-Stable-Diffusion', 'jkaur215/tweetopicgenarator', 'vkxlzk/demo-genAI', 'Vested-Sigil/VanGO', 'ToonToker/game1', 'waseemkhan/image-captioning', 'ToonToker/text-generation-webui', 'MartinRages/Versatile-Diffusion', 'sappho192/jesc-ja-en-translator-demo', 'Wmcs91/Versatile-Diffusion', 'fatiqa/demo-genAI-mahb', 'adherent/Bart-gen-arg', 'GeorgiosIoannouCoder/cuny-tech-prep-tutorial-4', 'teddybearxzh/Versatile-Diffusion', 'musharafnasim/sentence_generation', 'carisackc/clinicalnote', 'Kaylb/Kaylb', 'faztrick/wikis', 'alisrbdni/AutoGPT', 'mskov/whisper', 'Swadhin007/openai-community-gpt2', 'Narsil/hf_transfer_showcase', 'skops-ci/skops-model-card-creator-002a4e02-f658-4f9e-bacc-f7d1dbcf42d9', 'NadiaHassan/TextGeneration', 'dramsden/studentCC', 'ltomczak1/post_generator', 'Kamaljp/transformers_universe', 'hologram542/app', 'lapsapking/h2ogpt-chatbot', 'youa/gpt2', 'Nachiketkapure/Fitness_bot', 'Shmoon-Lodhi/text_generator_using_gpt2', 'ArpitPJain/OnlyForPMs', 'dar-tau/speaking-probes', 'priyald/openai-community-gpt2', 'shengzi/Text-Generation-with-GPT-2', 'rohit99/pg_capstone_1', 'hyuan5040/image-captioning', 'alibukhari/MotionGPT', 'ElixirRod/Versatile-Diffusion', 'magnolia-psychometrics/item-generator', 'TRaw/digital-alchemy', 'CullerWhale/Text-Generator-clone', 'ajcdp/GPT2-Text-Generation', 'rohit99/pg_capstone_2', 'Yori6789/Facegenerator', 'tgatewoo/Demo-App', 'Nonameismyname/PromptOptimizer', 'tgatewoo/Demo-App-Streamlit', 'MajinBog/Promptist', 'skops-ci/skops-model-card-creator-3c55e343-1606-4444-832f-5af197dffd2c', 'jacobda/AQ', 'DataAnalyticsLab/Sorvad', 'saim074/perplexity_enfrde', 'Sugisaku8/Plus65', 'rjiang12/anima_task_0_gradio', 'reshav1/test', 'rjiang12/anima_task_0_streamlit', 'blackfoxxie/33btest', 'anonauthors/SecretLanguage', 'noteldar/test_text_app', 'pepereeee/aiartnik', 'sineglossa/ailai', 'BenjaminB/skops-model-card-creator', 'marksverdhei/can-you-beat-a-language-model', 'bachiembmt/HA', 'Kurokabe/GANime', 'SpringAI/AiMagV1', 'seawolf2357/multi_test', 'timaaos2/gpt2', 'cnstvariable/med_bot', 'abcde1234www/chat-gpt-y', 'beyondpremiere/BERTAI', 'BenjaminB/skops-model-card-creator2', 'imseldrith/AI-Content-Detector', 'NPG/GPT-2_Instruct', 'trysem/Architext', 'maxisz254/max-gpt2', 'procrastinya/test_space', 'suryabbrj/image_captioner', 'skar0/shakespeare-demo', 'Alex-23/gtp2-gloumis', 'ajayathitya/katefarms-gpt3-bot', 'Corianas/RamblingGPT', 'king007/Stable-Diffusion-Promptist', 'omkarb09/gpt2_sentiment', 'wtconron1/SentimentAnalyis_BC_CIS_435', 'magic3910/badwords', 'NeoConsulting/Jarvis_QuAn_v02', 'wldmr/lexrank-gr', 'neo2021/Jarvis_QuAn_v03', 'jbraun19/daredevil-text-generation', 'Mahathi/Daredevil-Text-Generation', 'Mattgilbie/Daredevil-Text-Generation', 'jcrone2/Daredevil', 'northin/clean-code-qa', 'mhabegger/ebu-gpt-qa', 'kelvinleong/Kt_Demo_Text-Generation', 'HURUAI/aidoctor', 'guidel/OFA-Generic_Interface', 'HamidBekam/Test_DeployingHFMs_Grdio_TextGeneration', 'hugging-fellows/capdec-image-captioning', 'son9john/YENAYA', 'coolguys69420/HubermanPodBotskkkkrrrrtttt', 'EATHARD/chatbot', 'ai-art/MagicPrompt-Stable-Diffusion', 'Saiyajino/testing_ground', 'Ivoney/MagicPrompt-Stable-Diffusion', 'PhilHolst/desc', 'chengs/hackathon_chatbot_openai_api', 'Chakshu123/sketch-colorization-with-hint', 'Dao3/MagicPrompt-Stable-Diffusion_link', 'circlecircle/ChatPaper', 'Dao3/dajuzi', 'Bigshot/Article-GPT', 'PushkarA07/Cover-Gen-text2img', 'Youssefk/StoryAI', 'PumpkinPie1533/Chatgpt2', 'lzhen/ChatPaper', 'diggua/MagicPrompt-Stable-Diffusion', 'amongusrickroll68/Text-To-Video-WIP', 'hetianlong/TestChatPaper2', 'lipeijia01/chatpdf', 'Sapphire9877/ChatPaper', 'kent101/GPT_Fine_Tune', 'adwardlee/ChatReviewer', 'jumei/gptsite', 'luckyawen/MagicPrompt-Stable-Diffusion', 'zap8600/GPT-2', 'sunxianfeng/gptsite', 'wagewg/gpt', 'hlby/gpt', 'solopku/ChatReviewer', 'solopku/ChatPaper', 'sddpljx/ChatReviewer0', 'wbuni/ChatResponse', 'wbuni/ChatPaper', 'wbuni/ChatReviewer', 'xzxyx/AyyAsk', 'MycMycuH/ai', 'DtYXs/OFA-Visual_Grounding', 'DtYXs/OFA-vqa', 'DtYXs/OFA-Generic_Interface', 'a17/musicreview', 'vattyamp/askreddit', 'tiancheng91/devbox', 'ferenas/ChatPaper', 'Glix/Nakahara-chan', 'wingRs/ChatPaper', 'imcaoxuan/ChatPaper', 'ronaldahmed/local_coh_ppl', 'xhwz216/MagicPrompt-Stable-Diffusion', 'mariamisoieva/TextGeneration1', 'louey233/ChatPaper', 'RookieTXC/ChatPaper', 'loldota2iii/valueDetection', 'liamugong/ChatPaper', 'panda2018/ChatReviewer', 'wooxiaowei/ChatPaper', 'xskj/ChatPaper', 'GPTGone/GPTGone', 'satpalsr/gpt2test', 'covenants/gpt_next', 'xskj/ChatReviewer11', 'ronpay/ChatPaper', 'Liddlerain/ChatPaper_2', 'dromerosm/chatgpt-docs', 'yx1100/ChatPaper', 'yx1100/ChatReviewer', 'Cauchy101/ChatPaper_demo', 'wenxing/ChatPaper', 'MrLiu/ChatReviewer', 'weleen/ChatPaper', 'Aniun/ChatPaper', 'long1111/demo', 'jdczlx/ChatReviewer', 'willdas/Promptist', 'KyleTHU/ChatPaper', 'umbink/ChatPaper', 'jaylen/Chat_Response_to_reviewer', 'komleva/VQA', 'Davidzjw/ChatPaper', 'ryaalbr/QuestApp', 'JJBruce/Reviewer', 'Liddlerain/ChatReviewer', 'ChanIok/ChatPaper', 'cagataydag/ImgCapt', 'keaneu/HuggingGPT', 'viscosity/HuggingGPT', 'Mcdof/HuggingGPT', 'BMukhtar/BMA', 'Shad0ws/AI_Content_PerplexityScorer', 'chrisW6825/HuggingGPT', 'Shenziqian/HuggingGPT', 'lokutus/HuggingGPT', 'mimiqiao/HuggingGPT', 'ekinnk/demo1', 'tsgbalakarthik/HuggingGPT', 'wowochkin/HuggingGPT', 'Msp/HuggingGPT', 'loldota2iii/ValueDetectionDemo', 'CalvinLuo/ChatPaper', 'CalvinLuo/ChatReviewer', 'cdb24/milestone-2', 'Fengguang08buaa/ChatPaper_pub', 'meteos/ChatResponse', 'CalvinLuo/ChatResponse', 'ryan12439/HuggingGPTpub', 'lizytalk/ChatPaper', 'FANCHIYU/HuggingGPT', 'cashqin/HuggingGPT', 'wanghaha13/ChatPaper', 'ekarlee/Chatlee', 'felixfriday/MICROSOFTT_JARVIS_HuggingGPT', 'Meffordh/HuggingGPT', 'binhnase04854/nobita-gpt', 'lzqfree/HuggingGPT', 'bountyfuljr/HuggingGPTplaypublic', 'xhbdqq/ChatPaper', 'K1231/ChatPaper', 'mearjunsha/HuggingGPT', 'next-social/audio_img', 'GungnirAP/Youtube-Comments', 'FanPmuk/ChatPaper', 'ADA3e21/MagicPrompt-Stable-Diffusion', 'MichellChen/Promptist', 'marve1ous/ChatPaper', 'turbowed/HuggingGPT', 'Chokyounghoon/HuggingGPT', 'zhangdream/ChatPaper', 'lollo21/Will-GPT', 'Pfs2021Funny/HuggingGPT', 'Adam173/seinfeld-dialogue', 'irritablebro/HuggingGPT', 'MagKoz/HuggingGPT', 'zhangdream/HuggingGPT', 'lavawolfiee/memorizing_transformer_gpt2', 'calliber/HuggingGPT', 'zhiqiang00001/ChatPaper', 'Pitak/HuggingGPT', 'gaocegege/HuggingGPT', 'ussarata/storybook', 'DavidLuo/ChatPaper', 'erberry/botchatter', 'apgarmd/jarvis', 'apgarmd/jarvis2', 'haonanhao/eggs-paper', 'mukulnag/HuggingGPT1', 'ZENGXIAO/music', 'KingMV/ChatReviewer', 'mikehanada/AutoGPT', 'Jaggi/AutoGPT', 'ewave/AutoGPT', 'lugifudun/HuggingGPT', 'leadmaister/HuggingGPT', 'pors/HuggingGPT', 'glebr/AutoGPT', 'nixiaobai/ChatPaper', 'vs4vijay/AutoGPT', 'vs4vijay/HuggingGPT', 'Tianyi0217/ChatPaper', 'lilyling/Vietnam_QA', 'lilyling/Spain', 'lachine/GPT-2-test', 'lilyling/Italiano_QA', 'lilyling/Chinese_QA', 'monad-one/Promptist', 'lachine/GPT-2-better', 'mckeeboards/HuggingGPT', 'vs4vijay/h2ogpt-chatbot', 'akshaytrikha/gpt2-trump', 'ajithmadan09/AutoGPT', 'Connor22/duplication', 'mastere00/JarvisMeetsProfessor', 'jieyan/ChatPaper', 'hebherve/AutoGPT1', 'Avan/ChatPaper', 'passthebutter/HuggingGPT', 'MojoSamurai/AutoGPT', 'dromerosm/chatgpt-kyc', 'EdB1/AutoGPT', 'dreamerworks/t2gradio', 'zee2221/AutoGPT', 'szs9915/ChatPaper', 'rohan13/AutoGPT', 'manu1435/HuggingGPT', 'hebherve/AutoGPT12', 'dimitry12/AutoGPT', 'JackeyHong/ChatResponse', 'JackeyHong/ChatPaper', 'idirectork/AutoGPT', 'pbrown13/AutoGPT', 'Paulano/image-captioning-docker', 'Jaycrypt/AGI-AutoGPT', 'ALSv/MagicPrompt-Stable-Diffusion', 'NaamanSaif/HuggingGPT', 'oriasirmi/AutoGPT', 'acifol/AutoGPT', 'eslup/MedicalSchoolMatcher-GPT', 'Bruticus/AutoGPT', 'Superhot/Lolo', 'airvidcinematic/AutoGPT', 'lexamp/AutoGPT2', 'DiffusionArtco/advanced-prompt-gen', 'DMDaudio/AutoGPT', 'CollaalloC/HuggingGPT', 'chatgpt-openai/AutoGPT', 'nateraw/jupyterlab-inference-dev', 'nateraw/text-generation-inference', 'thanh17/lip-reading', 'LokeEros/AutoGPT', 'tiger94me/ChatPaper', 'Baneefear/AutoGPT', 'Baneefear/ASSISTANT', 'Baneefear/UmbrellaGPT', 'Bitsak/AutoGPT2', 'aichimantou/ChatPaper', 'cestbon/ChatPaper', 'czczup/ChatReviewer', 'dwolfe66/HuggingGPT', 'DB2323/nanoGPT', 'gblocher/AutoGPT2', 'fkhuggingme/ChatPaper', 'StephanMyburg/AutoGPT', 'xian-sheng/HuggingGPT', 'JohnTan38/AutoGPT', 'shunzh/apps_metric', 'Aygtljl518866/HuggingGPT', 'LolorzoloL/AutoGPT', 'johnsu6616/prompt_generator', 'zioee/ChatPaper', 'AnmolManocha/GPT4Tools', '3gg/isa', 'lhoy/ChatPaper', 'hosseinxj0152/AutoGPT', 'PegaMichael/test-gpt-2', 'YoungLuis/ChatResponse', 'Liven-Zhang/ChatPaper_2', 'mateenmalik/ethicalbot-tf', 'YoungLuis/ChatReviewer', 'zzzzxx/ChatPaper', 'zzzzxx/5656ChatPaper', 'zzzzxx/56565', 'zzzzxx/202014819zzx', 'tianyigao/ChatPaper', 'liuge2811/ChatReviewer', 'Hemi1403/HuggingGPT', 'flax-community/GPT2-CosmosQA', 'mrm8488/tokenizer-comparator', 'cahya/chat-server', 'osanseviero/Versatile-Diffusion', 'asach/openai-meeting', 'holly123/codeparrot-test', 'iricardoxd/gpt2', 'trhacknon/streamlit_ChatGPT_Peer', 'trhacknon/h2ogpt-chatbot', 'trhacknon/HuggingGPT', 'Vito99/HuggingGPT-Lite', 'rubberboy/MagicPrompt-Stable-Diffusion', 'ekinnk/gpt2_demo', 'EinfachOlder/MagicPrompt-Stable-Diffusion', 'bsjghee001/Refineverse_Plugin_testing', 'EinfachOlder/HuggingGPT-Lite', 'zhenyus/ChatReviewer', 'lotrlol/OFA-Image_Caption', 'aliabid94/gloopp-glop', 'next-social/dodo12', 'Hslavinsky/AutoGPT', 'Lleetllama/MomBot-gradio', 'HalcyonAegisLLC/HalcyonAsk', 'akole808/ChatPaper', 'deasdutta/Ona-chat', 'zzzzxx/56565656565', 'bsjghee001/oldbackup', 'Vito99/AutoGPT1', 'Yuanling/ChatPaper', 'innovativeillusions/HuggingGPT', 'mzltest/OFA-Image_Caption', 'Wikiforwind/ChatPaper', 'bsjghee001/Refineverse_Plugin_backup', 'AjManoj/mpt-7b-chat', 'aliabid94/abcdef', 'aliabid94/qwerty', 'aliabid94/no_nothing', 'aliabid94/ppp_p', 'YYG1787812757/ChatReviewer', 'rfrossard/mpt-7b-chat', 'xhy/Quantum-based-PaperRead', 'itsamejms/my-first-space', 'paulogpd/gpt-training-model', 'aliabid94/GOLF', 'S1-21/Refineverse_Plugin_2', 'bsjghee001/Refineverse_Plugin_2', 'HHANAA/Stable-Diffusion-prompt-generator', 'coding-alt/AutoGPT', 'vvitcheff/text-generation', 'cn3113645/AutoGPT', 'czovoa/ChatPaper', 'Arthios/AutoGPT', 'kusumakar/image_to_context_and_context_to_paragraph', 'posix4e/AutoGPT', 'petrsovadina/AutoGPT', 'Lllama0005/test', 'parperdy/paper-summarize', 'louisedrumm/BOE', 'jeremynotfound/ChatReviewer', 'wenjunchen/ChatResponse', 'naman7415963/summarization', 'bhavyapandya/Summarization', 'Saba99/SabaAutoGPT', 'alexkueck/ChatBotLI2Klein', 'melonking/ScienceModel', '0xAnders/test001', 'Vageesh1/Caption-Hashtag-Generator', 'mnauf/redditGPT', 'vs4vijay/ChatStudio', 'kkhan/iba_faq_chat', 'Anita2023/ChatPaper', 'harley001/ChatReviewer', 'dennis1940/AutoGPT', 'aliabid94/gpttag', 'replyxf/textgen', 'aliabid94/golfy2', 'popeking/AutoGPT', 'childolt/AutoGPT', 'liudd/ChatPaper', 'iamkyle/ChatPaper_public', 'snowwolf725/LiYongLe_SoVits', 'wldmr/transcriptifier-st-hf7', 'ttphong68/code_5.11', 'ttphong68/code_5.12', 'ttphong68/code_5.13', 'ttphong68/code_5.14', 'ttphong68/code_5.15', 'ttphong68/code_5.16', 'ttphong68/code_5.17', 'ttphong68/code_5.18', 'wissen/ChatPaper', 'DexterSptizu/sentence_completion', 'jixingwu/ChatResponse', 'dengkane/gpt2', 'vivekkumarbarman/sentence_completion', 'naman4jain/sentence_completion_using_GPT2_and_Gradio', 'anshu-man853/sentence_completion', 'Adit712/Sentence_Completion', 'rkaundinya/beamsearchexploration', 'yxchng/elia', 'lijiazhe/testtestljz', 'lijiazhe/123', 'chrishanna/AutoGPT', 'sharpbai/text_generation', 'cybertrapped/text_generation', 'semaj83/ctmatch', 'hamza50/maven-5', 'thundercade/maven-5', 'amitjainmldesign/maven-5', 'datasistah/maven-5', 'brichett/maven-mlsd', 'vsukhoy/maven-5', 'ankitpoonia/maven-5', 'ramd/Maven10july', 'Sukesh/maven_5', 'darshil3011/test', 'priyaradhakrishnan/MLSysDes_assignment', 'aarontyliu/maven-5', 'mqha/tryGPT2', 'elderman/ChatPaper', 'pribadihcr/quGPT', 'Wetiqe/ChatPaper', 'prlabs2023/text-completion-1', 'mikoxi/ChatPaper', 'daeron/CONVS2S-EVJVQA-DEMO', 'ttran51/maven-50', 'ylavie/HuggingGPT3', 'ylavie/HuggingGPT-Lite', 'OurNhan/asdasd', 'OurNhan/sentiment-analysis', 'myclassunil/AutoGPT', 'Polpavan0/text.image', 'nazzysweet/AutoGPT', 'zurdoo/gpt-info-extraction', 'tianjiangyou/Prompt', 'zjq12333/ChatPaper', 'rjiang12/bias-test-gpt', 'elitecode/h2ogpt-chatbot2', 'Guoyccc/ChatReviewer', 'Guoyccc/ChatResponse', 'AryanDhiman/sentence_completion', 'bacelar/ciata-v1', 'Scany/GPT2', 'Emerr258/Mozbot', 'CCYAO/HuggingGPT', 'Devin-Long/ChatReviewer', 'rjiang12/bias-test-gpt-breadcrumbs', 'tedinvestigasi/AutoGPT', 'Wingyu/wy_space', 'omerdan03/LLM_local', 'kaaokou/stablep-diffusion-prompt', 'acclass/gpt_demo', 'AnthonyErosion/AnthonyErosion-HoctotAI', 'Statical-Archives/StaticalizaSpace', 'Coderteq/AutoGPT', 'yuaiyu/Versatile-Diffusion', 'potterbear5/AutoGPT', 'nalanwutuo/txt_gen', 'reihaneh-Rahmani/ML_huggingface_movie_recomm_proj', 'RohitFrancis/LEGION_TEST', 'akashkj/H2OGPT', 'dcams/HuggingGPT', 'chendl/multimodal', 'rjiang12/bias-test-gpt-breadcrumbsV2', 'MrZak/Learny2.0', 'JerryFan011018/ChatReviewer', 'shilpabanerjee/Game-Wikipedia', 'iweavings/image-captioning-01', 'zw89/sd-prompt-generator', 'rebornrulz/microsoft-DialoGPT-small', 'MicroPanda123/PythonBasic', 'MicroPanda123/RustBasic', 'peter0113/gpt2-test', 'ariel0330/h2osiri', 'Tasslehawk/Stable-Diffusion-prompt-generator', 'BMQY/ChatPaper', 'MrZak/Learny3.0', 'xs98/ChatPaper', 'yangchun1987/ChatPaper', 'janar/toypdf', 'ccoreilly/aigua-xat', 'xcoolcoinx/Auto-GPT', 'bioinfoark/ChatPaper', 'bioinfoark/ChatReviewer', 'bioinfoark/ChatResponse', 'yl12053/so-vits-4.1-Mejiro-Mcqueen', 'azusarang/so-vits-svc-models-ba_P', 'netsssss/OFA-Image_Caption', 'johnjets/grammar', 'yl12053/so-vits-4.1-Slience-Suzuka', 'TRaw/testr', 'LavanyaBurlagadda/transformers-gpt', 'scp4950/grah', 'TechYAN/ChatResponse', 'TechYAN/ChatReviewer', 'yl12053/so-vits-4.1-Seiun-Sky', 'LavanyaBurlagadda/ChatBot-OpenAI-PlayHt-Old', 'suanlixianren/sovits_test', 'suanlixianren/sovits_test2', 'LavanyaBurlagadda/My-testing', 'csuvikv/gpt-2', 'daidaiyu1987/ChatReviewer', 'DHEIVER/Text-to-Image', 'DHEIVER/MagicPrompt-Stable-Diffusion', 'Dorn4449/gpt-chatbot', 'Nymbo/AutoGPT', 'Arylwen/mlk8s', 'mouaddb/OFA-Visual_Grounding', 'mouaddb/OFA', 'caiocarvalhofre/MagicPrompt-Stable-Diffusion', 'yl12053/so-vits-4.1-Gold-Ship', 'yl12053/so-vits-4.1-Satono-Diamond', 'evegarcianz/Botlitica', 'RKocielnik/bias-test-gpt-pairs', 'Colinmei/ChatPaper', 'Colinmei/ChatReviewer', 'sia-ai/text-generation-gen2-sample1', 'ShauryaD/Text-Generation', 'susmagus/Text_Generator', 'hiihhiii/questionanswerplatform', 'Colinmei/AIR', 'Hugh996/wen', 'alifatmi/alidemo', 'Ankoorkashyap/Sentence_Completion', 'pranavrana98/story-generator', 'flatindo/MagicPrompt', 'cndavy/HuggingGPT', 'ysharma/dummy_m4', 'bczhou/clip-gpt2', 'DKethan/Text-Generation', 'AnirudhDaya/Daya_HR_v2', 'Seyedehsara/text-generation-webui', 'SoniR/demo-app', 'xRundaAILab/gushiGPT', 'Reiner4/extrasneo', 'yl12053/so-vits-4.1-Matikanetannhauser', 'vasishtakuppa/EmailSubjectGeneration', 'yl12053/so-vits-4.1-Nice-Nature', 'lexamp/MetaGPT-GUI', 'SeamlessEMusic/So-vits-svc_Alto_soft', 'donaloc/TalkToLLM', 'SeamlessEMusic/So-vits-svc_Alto_discrete', 'fangjiajia/AAAADjj_3', 'imessien/Geriatrics_Depression_Scale_Questioniare', 'AlisterAnhedonia/extrasneo', 'Zalaruc/extrasseleo', 'TheCoolDump/MagicPrompt-Stable-Diffusion', 'pngwn/open_llm_leaderboard', 'trishv/songy', 'yifanx-dev/ChatReviewer', 'SriPravallikaB/projectexplainer', 'topstory/MagicPrompt-Stable-Diffusion', 'SpringTrees/SOVITS-5.0', 'lingger/doctrine', 'pngwn/open_llm_leaderboard_two', 'LDJA/new2', 'Ywung/llm-webui', 'grosspaydigital/AutoGPT', 'hijaukuohno/MagicPrompt-Stable-Diffusion', 'zipingl/synthethics', 'bookmorning/MagicPrompt-Stable-Diffusion', 'TRaw/chui', 'paavansundar/my_ml_models_space', 'egub/text-generation-webui', 'menghuiguxiang/image_to_story_audio', 'DavidHuggingFace1/Model', 'jashing/Josh_RIC_GenA_Demo', 'SUSSYMANBI/test.wow', 'zoebat20/BLiMP', 'jashing/JoshGenA', 'santoshaimlops/MiniProj_Jarvis', 'freddyaboulton/open_llm_leaderboard_two_fix', 'Nomyx/textgen-webui', 'AlexchIA/text-generation-webui', 'mattmajestic/web3bms', 'khussairiee/H2O', 'choco9966/LeaderboardTest', 'jfeng1115/marketing-analytics-bot', 'cardioio/ChatPaper', 'fox2048/smc', 'rushil78/clip_gpt2', 'randomtable/MagicPrompt-Stable-Diffusion', 'ahassoun/voice_clone', 'lanzhiwang/first-gradio', 'hijaukuohno/prompt-fungineer-355M', 'AnonymousSub/Ayurveda_Chatbot', 'SgonnikovD/Writer', 'Liverpool/webui-demo', 'ahassoun/voice_clone_v2', 'ahassoun/voice_clone_v3', 'ahassoun/voice_clone_v4', 'Abhiverse01/PromptEnhancer', 'olanigan/text-gen-gpt2', 'Thefrudi78/Extra', 'mozgov/so-vits-4.1-Matikanefukukitaru', 'liyaodev/so-vits-4.1-Matikanefukukitaru', 'Bhagu69/next-word-fun', 'hf-dongpyo/gpt2', 'teachyourselfcoding/chatlawv1', 'SaeedAnwar47/text_genr', 'PriyaMittal/ChatBot_Final', 'Harthika/24', 'Harthika/Image_Caption_Generator', 'DrSkunk570/AutoGPT', 'Ankush05/Code9', 'Harthika/Base-caption-model', 'adr2432/lets_try', 'wissamantoun/LLM_Detection_Attribution', 'Harthika/ICG', 'Asankilp/sovits-gochiusa-webui', 'Bhagu69/next-word-predictor', 'DeepVen/rag-test-venkat', 'Ashrafb/Promptist', 'qgyd2021/reward_model_gpt2_stack_exchange', 'ws123/optimized-text-generation', 'Rohankumar31/Prakruti_LLM', 'anon4757/BiasTestGPT', 'kushan1988/VITS-TEST', 'Shanuka01/VITS-TEST_02', 'neuralleap/SO-VITS-V2', 'WhaleCancer/MechanicalClerk', 'kelvin-t-lu/chatbot', 'BhanuPrakashSamoju/rag-test-venkat', 'ylavie/AutoGPT', 'Rohankumar31/AI-Chaperone_Chatbot', 'daniel-kim/danielkim-autonomous-agents', 'daniel-kim/daniel-kim-agents-autonomous', 'DeepVen/streamlit', 'mookkanvas/text_generation', 'mjsp/food_classify', 'daniel-kim/d_kim_agents', 'mattmajestic/hf-supabase-chatbot', 'ignore/prompt', 'Anon3365/BiasTestGPT', 'BhanuPrakashSamoju/streamlit', 'awakenai/fast-api-transformers-pipeline-v2', 'namemew/Promptist-by-Mircosoft', 'ZackBradshaw/omni_bot', 'SilverStarShadow/HF-SillyTavern-Extras', 'DeepVen/insight', 'vhpvmx/Chatbot_Comparison', 'DeepLearning101/IE101TW', 'drowdancer/extrasneo', 'duyan/test', 'awqwqwq/Stable-Diffusion-prompt-generator', 'TheKitten/MagicPrompt-Stable-Diffusion', 'free-x/custom-test', 'sujanchaw/demochatbot', 'mabzak/MagicPrompt-Stable-Diffusion-Indonesia-to-EN', 'Shanuka01/tortoise-tts-v2', 'sheidelberg/gradio-blog-generation', 'projectsnightlight/tortoise-tts-working', 'fjibj/MotionGPT', 'pol9886/extrasneo', 'pol9886/extrasneo2', 'navpreetnp/ERA-S21', 'WhaleCancer/Tortoise', 'StanislavMichalov/Stable-Diffusion-prompt-generator', 'StiveDudov/Stable-Diffusion-prompt-generator', 'ElenaVasileva/Stable-Diffusion-prompt-generator', 'geetherb/LiPT', 'ZingyZa/tortoise-tts-test', 'atrost/local_perplexity', 'zamasam/extrasneo', 'mjsp/classifys_food', 'JanmejayM46/food_classify', 'JanmejayM46/classify_f', 'aishuya/sweet_classifying', 'Rozinamax/Text_to_Speech', 'choco9966/open-ko-llm-leaderboard', 'Shanuka01/Accent_changer', 'Shanuka01/Accent_changer_test_02', 'anantgupta129/nanogpt', 'liuhaozhe6788/CelebChat', 'RashiAgarwal/NanoGPT_charToken', 'gupta1912/nanoshakespeareS21_ERA', 'LN1996/S21_ChatGPT_from_scratch', 'geekocean/ChatReviewer', 'Pranjal12345/Text_to_Speech22', 'CUBOID2010/DialoGPT', 'Mikki01/Prompt-generator', 'waredot32189/MagicPrompt-Stable-Diffusion', 'mohan32189/MagicPrompt-Stable-Diffusion', 'Veera-Ruki/Visual_Question_Answering', 'Veera-Ruki/Image_Caption', 'Veera-Ruki/Visual_Grounding', 'abdurahimanoffc/kmbr_law_assistant', 'cpt-subtext/learngradio', 'MadhurGarg/NanoGPT_charToken', 'Omnibus/MagicPrompt-Stable-Diffusion_link', 'yoinked/mofu-webui', 'sms07/Georgios-Ioannou-Visual-Question-Answering-With-Hugging-Face', 'NISHANTH7/brandstoryvideo', 'FPRT/ThematicAnalysis', 'drdata/MagicPrompt-Stable-Diffusion-2', 'cy0000/ChatPaper', 'Vedarutvija/TextClass', 'ppgawande/image-creation', 'alonsosilva/gpt2', 'sms07/Georgios-Ioannou-Visual-Question-Answering-With-Hugging-Face-FINAL', 'lampongyuen/Gradio-text-generation', 'CS50/Chat-Bot', 'simon-clmtd/exbert', 'ag471782517/ChatPaper', 'minhxthanh/text-chat-ui', 'MarwanAshraf22/TRIAL', 'Sambhavnoobcoder/h2ogpt-chatbot', 'Giorgos96/gpt2-text-generation', 'Joe99/ChatFinance', 'GroveStreet/GTAVC_SOVITS', 'rajpateirya/GeneratevieAIDetector', 'wldmr/transcriptifier-st-hf8', 'yjy7777/mfe', 'drdata/MagicPrompt-Stable-Diffusion-3', 'lingbionlp/PhenoTagger_CL', 'Tonic1/Xgen', 'TeamTonic/Tulu', 'SarProgrammer/ChatReviewer-2', 'Hank528286709/tb', 'Ashrafb/MagicPrompt-Stable-Diffusiongust', 'miron258/text-generation-tool-duplicate', 'wwxing/ChatReviewer', 'pencilsout/Manmay-tortoise-tts', 'homeway/PromptCARE', 'yufistudio/Gpt2-EasyGen', 'shalinialisha/ai-for-all', 'BBrother/MagicPrompt-Stable-Diffusion', 'Hank528286709/ad', 'henrii1/Text_summarization', 'Rendernet/prompt-generator', 'solo7917/extrasneo', 'solo7917/extrasneo1', 'nanankawa/extrasneo-CodeSandBox', 'evanwoods/AutoGPT', 'jocowhite/SimplifAI', '7jimmy/gpt2_Sharjeel', 'awqwqwq/SD-prompt-generator', 'jihaitang/extrasneo11', 'markqiu/text-generation-webui', 'smothiki/open_llm_leaderboard', 'jihaitang/extrasneo4399', 'jihaitang/SillyTavern-Extras1', 'jordonpeter01/prompt', 'GH111/wonderlore', 'GH111/wn', 'MasonCrinr/MySpace', 'zewqds/ChatPaper', 'jordonpeter01/test3', 'azizalto/gpt-cost-estimator', 'mdevora/sherlock', 'MasonCrinr/Tortoise', 'MasonCrinr/TortoiseTTS', 'ksee/scamgptj-eval', 'guysalton/gpt2', 'mdevora/inggrim', 'DexterSptizu/CompleteSentence', 'Faizzyhon/Chatbot_IUB', 'blaketm/text-generation-webui', 'xynull/mistral-7b-docker', 'Writo/TailorAI', 'PiyushJha/img2text', 'forestcalled/text-generation-webui', 'ToniTi/demo', 'Edsonlp1/MotrilTesting', 'acecalisto3/Auddo-G-Petey', 'neuroama/sovits5.0', 'jalder1989/Wizard-Vicuna-30B-Uncensored-WebUI', 'tracinginsights/mpt-7b-chat', 'Alfasign/MagicDiffusion', 'elderman/ChatReviewer', 'Writo/story', 'Wajahat2001/Gpt2_Base', 'grepLeigh/perplexity', 'Museyib/My_Project', 'banana-projects/transformer-autocomplete', 'AsadullaH777/HuggingGPT', 'nevi1/lm_detect', 'SoSa123456/Radio4', 'HL-Gao/test', 'siewcode/gpt2-test', 'algowizmomo/RAG-Motor', 'Trace2333/EasyPrompt', 'Kosuke-mnt/motiongpt', 'Faizan15/gptike', 'mjsp/recipe', 'MrBoltik/MrBoltik-mishok1', 'xynull/test3', 'rayan74123/FightAddiction', 'zahidpichen/nanogpt', 'NLPark/convert-to-gguf', 'enriquegr/egrbot', 'cyberbuddies/cyberbuddies_AI', 'clearlove5488/SillyTavern-Extras1', 'kaitkuroba/SillyTavern-Extras11', 'ming512/llm', 'clinitex/Gepete', 'amaljoseami/test', '418iamacrow/minus', 'randomtable/MagicPrompt-Dalle', 'hadidev/webui', 'it-jim/sound-generation', 'iblfe/test', 'jialinsong/apps_metric', 'Rajut/Normandy_QA_2', 'Neu256/text-generation-webui', 'ananyagupta25/initialTask', 'ananyagupta25/gradioInitialTask', 'ananyagupta25/splitInitialTask', 'sandhyac/subject_line_generation', 'BlackBlur/so-vits-svc-models-pcr', 'meenalchonde/Chatbot', 'meenalchonde/Bot', 'meenalchonde/Llama-2', 'immanuelzhu/prompt_generator', 'KevinMelchert/Chat', 'phiskim/oobabooga_chris', 'AU-VN-ResearchGroup/whisper_demo_docker', 'AT-VN-Research-Group/SpeakerDiarization', 'Charles95/gradio-tasks', 'yugamj/Finance_chatbot', 'ali121300/GPT1', 'AbhiPemmaraju/subject_gen', 'mindmime/gradio', 'Jaglinux/text-generation-gpt2', 'Zulelee/langchain-chatchat', 'njain1978/llmops', 'VTechAI/Chat', 'ypat/AutoGPT', 'arthuqa/helporio', 'zhaizhch/Megatron-LM', 'chanhen/echo-chatbot', 'mohd43/gpt2', 'njain1978/genai-bean', 'LiuZiyi/5-mlBasics-gradio-gradioBlocks-transformers'], safetensors={'parameters': {'F32': 137022720}, 'total': 137022720})\n"
     ]
    }
   ],
   "source": [
    "from huggingface_hub import model_info\n",
    "print(model_info('gpt2'))"
   ]
  },
  {
   "cell_type": "code",
   "execution_count": 3,
   "metadata": {},
   "outputs": [],
   "source": [
    "from datasets import load_dataset #예제 데이터 셋\n",
    "from transformers import AutoTokenizer, DataCollatorWithPadding"
   ]
  },
  {
   "cell_type": "code",
   "execution_count": 4,
   "metadata": {},
   "outputs": [],
   "source": [
    "#사용할 언어모델\n",
    "checkpoint = \"bert-base-uncased\""
   ]
  },
  {
   "cell_type": "code",
   "execution_count": 5,
   "metadata": {},
   "outputs": [],
   "source": [
    "#tokenizer 정의\n",
    "tokenizer = AutoTokenizer.from_pretrained(checkpoint)"
   ]
  },
  {
   "cell_type": "code",
   "execution_count": 6,
   "metadata": {},
   "outputs": [],
   "source": [
    "#데이터셋 로드\n",
    "raw_datasets = load_dataset(\"glue\", \"mrpc\")"
   ]
  },
  {
   "cell_type": "code",
   "execution_count": 7,
   "metadata": {},
   "outputs": [],
   "source": [
    "#데이터셋 불러오기 및 백터화\n",
    "def tokenize_function(example):\n",
    "    return tokenizer(example[\"sentence1\"], example[\"sentence2\"], truncation=True)"
   ]
  },
  {
   "cell_type": "code",
   "execution_count": 8,
   "metadata": {},
   "outputs": [
    {
     "data": {
      "application/vnd.jupyter.widget-view+json": {
       "model_id": "51d47b3fb2114cd3994110a538458194",
       "version_major": 2,
       "version_minor": 0
      },
      "text/plain": [
       "Map:   0%|          | 0/408 [00:00<?, ? examples/s]"
      ]
     },
     "metadata": {},
     "output_type": "display_data"
    }
   ],
   "source": [
    "tokenized_datasets = raw_datasets.map(tokenize_function, batched=True)\n",
    "data_collator = DataCollatorWithPadding(tokenizer=tokenizer) #동적패딩적용 배치당 가장 긴 문자열 기준"
   ]
  },
  {
   "cell_type": "code",
   "execution_count": 9,
   "metadata": {},
   "outputs": [
    {
     "data": {
      "text/plain": [
       "['labels', 'input_ids', 'token_type_ids', 'attention_mask']"
      ]
     },
     "execution_count": 9,
     "metadata": {},
     "output_type": "execute_result"
    }
   ],
   "source": [
    "#데이터 전처리 과정\n",
    "\n",
    "# 1. model에게 필요없는 열 삭제\n",
    "tokenized_datasets = tokenized_datasets.remove_columns([\"sentence1\", \"sentence2\", \"idx\"])\n",
    "\n",
    "# 2. label => labels 모델에 입력할때에는 labels로\n",
    "tokenized_datasets = tokenized_datasets.rename_column(\"label\", \"labels\")\n",
    "\n",
    "# 3. Pytorch 텐서로 변경\n",
    "tokenized_datasets.set_format(\"torch\")\n",
    "tokenized_datasets[\"train\"].column_names"
   ]
  },
  {
   "cell_type": "code",
   "execution_count": 10,
   "metadata": {},
   "outputs": [],
   "source": [
    "#Dataloader\n",
    "#Pytorch는 Dataloader를 통해서 데이터 입력\n",
    "from torch.utils.data import DataLoader"
   ]
  },
  {
   "cell_type": "code",
   "execution_count": 11,
   "metadata": {},
   "outputs": [],
   "source": [
    "train_dataloader = DataLoader(tokenized_datasets['train'], shuffle=True, batch_size=8, collate_fn=data_collator)\n",
    "eval_dataloader = DataLoader(tokenized_datasets['validation'], batch_size=8, collate_fn=data_collator)"
   ]
  },
  {
   "cell_type": "code",
   "execution_count": 12,
   "metadata": {},
   "outputs": [],
   "source": [
    "# DataLoader가 올바르게 되었는지 검사\n",
    "for batch in train_dataloader:\n",
    "    break"
   ]
  },
  {
   "cell_type": "code",
   "execution_count": 13,
   "metadata": {},
   "outputs": [
    {
     "data": {
      "text/plain": [
       "{'labels': torch.Size([8]),\n",
       " 'input_ids': torch.Size([8, 74]),\n",
       " 'token_type_ids': torch.Size([8, 74]),\n",
       " 'attention_mask': torch.Size([8, 74])}"
      ]
     },
     "execution_count": 13,
     "metadata": {},
     "output_type": "execute_result"
    }
   ],
   "source": [
    "{k: v.shape for k, v in batch.items()}"
   ]
  },
  {
   "cell_type": "code",
   "execution_count": 14,
   "metadata": {},
   "outputs": [],
   "source": [
    "#모델 불러오기\n",
    "from transformers import AutoModelForSequenceClassification"
   ]
  },
  {
   "cell_type": "code",
   "execution_count": 15,
   "metadata": {},
   "outputs": [
    {
     "name": "stderr",
     "output_type": "stream",
     "text": [
      "Some weights of BertForSequenceClassification were not initialized from the model checkpoint at bert-base-uncased and are newly initialized: ['classifier.bias', 'classifier.weight']\n",
      "You should probably TRAIN this model on a down-stream task to be able to use it for predictions and inference.\n"
     ]
    }
   ],
   "source": [
    "model = AutoModelForSequenceClassification.from_pretrained(checkpoint, num_labels=2) #이진분류"
   ]
  },
  {
   "cell_type": "code",
   "execution_count": 16,
   "metadata": {},
   "outputs": [
    {
     "name": "stdout",
     "output_type": "stream",
     "text": [
      "tensor(0.6572, grad_fn=<NllLossBackward0>) torch.Size([8, 2])\n"
     ]
    }
   ],
   "source": [
    "#model 작동여부 테스트\n",
    "outputs = model(**batch)\n",
    "print(outputs.loss, outputs.logits.shape)"
   ]
  },
  {
   "cell_type": "code",
   "execution_count": 17,
   "metadata": {},
   "outputs": [],
   "source": [
    "#Optimizer 설정\n",
    "from transformers import AdamW"
   ]
  },
  {
   "cell_type": "code",
   "execution_count": 18,
   "metadata": {},
   "outputs": [
    {
     "name": "stderr",
     "output_type": "stream",
     "text": [
      "c:\\Users\\admin\\.conda\\envs\\nlp\\Lib\\site-packages\\transformers\\optimization.py:429: FutureWarning: This implementation of AdamW is deprecated and will be removed in a future version. Use the PyTorch implementation torch.optim.AdamW instead, or set `no_deprecation_warning=True` to disable this warning\n",
      "  warnings.warn(\n"
     ]
    }
   ],
   "source": [
    "optimizer = AdamW(model.parameters(), lr=5e-5)"
   ]
  },
  {
   "cell_type": "code",
   "execution_count": 19,
   "metadata": {},
   "outputs": [],
   "source": [
    "#스케줄러 설정\n",
    "from transformers import get_scheduler"
   ]
  },
  {
   "cell_type": "code",
   "execution_count": 20,
   "metadata": {},
   "outputs": [],
   "source": [
    "num_epochs = 3\n",
    "num_training_steps = num_epochs * len(train_dataloader)\n",
    "lr_scheduler = get_scheduler(\n",
    "    'linear',\n",
    "    optimizer=optimizer,\n",
    "    num_warmup_steps=0,\n",
    "    num_training_steps=num_training_steps\n",
    ")"
   ]
  },
  {
   "cell_type": "code",
   "execution_count": 21,
   "metadata": {},
   "outputs": [
    {
     "name": "stdout",
     "output_type": "stream",
     "text": [
      "1377\n"
     ]
    }
   ],
   "source": [
    "print(num_training_steps)"
   ]
  },
  {
   "cell_type": "code",
   "execution_count": 22,
   "metadata": {},
   "outputs": [],
   "source": [
    "#gpu로 학습\n",
    "import torch"
   ]
  },
  {
   "cell_type": "code",
   "execution_count": 23,
   "metadata": {},
   "outputs": [
    {
     "data": {
      "text/plain": [
       "device(type='cuda')"
      ]
     },
     "execution_count": 23,
     "metadata": {},
     "output_type": "execute_result"
    }
   ],
   "source": [
    "device = torch.device(\"cuda\") if torch.cuda.is_available() else torch.device('cpu')\n",
    "model.to(device)\n",
    "device #device(type='cuda')로 출력되면 됨."
   ]
  },
  {
   "cell_type": "code",
   "execution_count": 24,
   "metadata": {},
   "outputs": [
    {
     "data": {
      "application/vnd.jupyter.widget-view+json": {
       "model_id": "66b162b3f5304bf3b96fe8412eca0f33",
       "version_major": 2,
       "version_minor": 0
      },
      "text/plain": [
       "  0%|          | 0/1377 [00:00<?, ?it/s]"
      ]
     },
     "metadata": {},
     "output_type": "display_data"
    }
   ],
   "source": [
    "#진행과정을 보기 위해서 tqdm 라이브러리 사용\n",
    "from tqdm.auto import tqdm\n",
    "\n",
    "progress_bar = tqdm(range(num_training_steps))"
   ]
  },
  {
   "cell_type": "code",
   "execution_count": 25,
   "metadata": {},
   "outputs": [],
   "source": [
    "#모델 훈련\n",
    "model.train()\n",
    "for epoch in range(num_epochs):\n",
    "    for batch in train_dataloader:\n",
    "        batch = {k: v.to(device) for k, v in batch.items()} #gpu로 데이터 올려놓음\n",
    "        outputs = model(**batch)\n",
    "        loss = outputs.loss\n",
    "        loss.backward()\n",
    "\n",
    "        optimizer.step()\n",
    "        lr_scheduler.step()\n",
    "        optimizer.zero_grad()\n",
    "        progress_bar.update(1)"
   ]
  },
  {
   "cell_type": "code",
   "execution_count": 26,
   "metadata": {},
   "outputs": [],
   "source": [
    "#평가\n",
    "import evaluate"
   ]
  },
  {
   "cell_type": "code",
   "execution_count": 27,
   "metadata": {},
   "outputs": [
    {
     "data": {
      "text/plain": [
       "BertForSequenceClassification(\n",
       "  (bert): BertModel(\n",
       "    (embeddings): BertEmbeddings(\n",
       "      (word_embeddings): Embedding(30522, 768, padding_idx=0)\n",
       "      (position_embeddings): Embedding(512, 768)\n",
       "      (token_type_embeddings): Embedding(2, 768)\n",
       "      (LayerNorm): LayerNorm((768,), eps=1e-12, elementwise_affine=True)\n",
       "      (dropout): Dropout(p=0.1, inplace=False)\n",
       "    )\n",
       "    (encoder): BertEncoder(\n",
       "      (layer): ModuleList(\n",
       "        (0-11): 12 x BertLayer(\n",
       "          (attention): BertAttention(\n",
       "            (self): BertSelfAttention(\n",
       "              (query): Linear(in_features=768, out_features=768, bias=True)\n",
       "              (key): Linear(in_features=768, out_features=768, bias=True)\n",
       "              (value): Linear(in_features=768, out_features=768, bias=True)\n",
       "              (dropout): Dropout(p=0.1, inplace=False)\n",
       "            )\n",
       "            (output): BertSelfOutput(\n",
       "              (dense): Linear(in_features=768, out_features=768, bias=True)\n",
       "              (LayerNorm): LayerNorm((768,), eps=1e-12, elementwise_affine=True)\n",
       "              (dropout): Dropout(p=0.1, inplace=False)\n",
       "            )\n",
       "          )\n",
       "          (intermediate): BertIntermediate(\n",
       "            (dense): Linear(in_features=768, out_features=3072, bias=True)\n",
       "            (intermediate_act_fn): GELUActivation()\n",
       "          )\n",
       "          (output): BertOutput(\n",
       "            (dense): Linear(in_features=3072, out_features=768, bias=True)\n",
       "            (LayerNorm): LayerNorm((768,), eps=1e-12, elementwise_affine=True)\n",
       "            (dropout): Dropout(p=0.1, inplace=False)\n",
       "          )\n",
       "        )\n",
       "      )\n",
       "    )\n",
       "    (pooler): BertPooler(\n",
       "      (dense): Linear(in_features=768, out_features=768, bias=True)\n",
       "      (activation): Tanh()\n",
       "    )\n",
       "  )\n",
       "  (dropout): Dropout(p=0.1, inplace=False)\n",
       "  (classifier): Linear(in_features=768, out_features=2, bias=True)\n",
       ")"
      ]
     },
     "execution_count": 27,
     "metadata": {},
     "output_type": "execute_result"
    }
   ],
   "source": [
    "metric = evaluate.load(\"glue\", \"mrpc\")\n",
    "model.eval()"
   ]
  },
  {
   "cell_type": "code",
   "execution_count": 28,
   "metadata": {},
   "outputs": [
    {
     "data": {
      "text/plain": [
       "{'accuracy': 0.8700980392156863, 'f1': 0.9100169779286927}"
      ]
     },
     "execution_count": 28,
     "metadata": {},
     "output_type": "execute_result"
    }
   ],
   "source": [
    "for batch in eval_dataloader:\n",
    "    batch = {k: v.to(device) for k, v in batch.items()} #gpu 사용을 위한 코드 model이 gpu를 사용하기 때문에 데이터도 gpu 로\n",
    "    with torch.no_grad():\n",
    "        outputs = model(**batch)\n",
    "\n",
    "    logits = outputs.logits\n",
    "    predictions = torch.argmax(logits, dim=-1)\n",
    "    metric.add_batch(predictions=predictions, references=batch[\"labels\"])\n",
    "\n",
    "metric.compute()"
   ]
  }
 ],
 "metadata": {
  "kernelspec": {
   "display_name": "nlp",
   "language": "python",
   "name": "python3"
  },
  "language_info": {
   "codemirror_mode": {
    "name": "ipython",
    "version": 3
   },
   "file_extension": ".py",
   "mimetype": "text/x-python",
   "name": "python",
   "nbconvert_exporter": "python",
   "pygments_lexer": "ipython3",
   "version": "3.11.7"
  }
 },
 "nbformat": 4,
 "nbformat_minor": 2
}
